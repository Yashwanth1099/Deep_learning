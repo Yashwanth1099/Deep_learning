{
 "cells": [
  {
   "cell_type": "code",
   "execution_count": 6,
   "metadata": {},
   "outputs": [],
   "source": [
    "import torch\n",
    "import numpy as np "
   ]
  },
  {
   "cell_type": "code",
   "execution_count": 7,
   "metadata": {},
   "outputs": [
    {
     "data": {
      "text/plain": [
       "tensor([  0,  11,  24,  39,  56,  75,  96, 119, 144, 171], dtype=torch.int32)"
      ]
     },
     "execution_count": 7,
     "metadata": {},
     "output_type": "execute_result"
    }
   ],
   "source": [
    "#vector multiplication\n",
    "a = torch.tensor(np.arange(0,10))\n",
    "b = torch.tensor(np.arange(10,20))\n",
    "a*b"
   ]
  },
  {
   "cell_type": "code",
   "execution_count": 8,
   "metadata": {},
   "outputs": [
    {
     "data": {
      "text/plain": [
       "tensor([[72, 56, 56],\n",
       "        [46, 35, 39],\n",
       "        [60, 42, 66]], dtype=torch.int32)"
      ]
     },
     "execution_count": 8,
     "metadata": {},
     "output_type": "execute_result"
    }
   ],
   "source": [
    "#matrix multiplication\n",
    "c = np.random.randint(0,10, size = (3,2))\n",
    "d = np.random.randint(0,10, size = (2,3))\n",
    "\n",
    "torch.tensor(c)@torch.tensor(d)"
   ]
  },
  {
   "cell_type": "code",
   "execution_count": 9,
   "metadata": {},
   "outputs": [
    {
     "data": {
      "text/plain": [
       "tensor([[72, 35, 42],\n",
       "        [ 0,  0, 24]], dtype=torch.int32)"
      ]
     },
     "execution_count": 9,
     "metadata": {},
     "output_type": "execute_result"
    }
   ],
   "source": [
    "torch.tensor(c.T)*torch.tensor(d)"
   ]
  },
  {
   "cell_type": "code",
   "execution_count": 12,
   "metadata": {},
   "outputs": [
    {
     "name": "stdout",
     "output_type": "stream",
     "text": [
      "tensor([0., 1., 2., 3., 4., 5., 6., 7., 8., 9.])\n",
      "tensor([7.8013e-05, 2.1206e-04, 5.7645e-04, 1.5669e-03, 4.2594e-03, 1.1578e-02,\n",
      "        3.1473e-02, 8.5552e-02, 2.3255e-01, 6.3215e-01])\n",
      "tensor([7.8013e-05, 2.1206e-04, 5.7645e-04, 1.5669e-03, 4.2594e-03, 1.1578e-02,\n",
      "        3.1473e-02, 8.5552e-02, 2.3255e-01, 6.3215e-01])\n"
     ]
    }
   ],
   "source": [
    "#softmax \n",
    "a = torch.Tensor(np.arange(10))\n",
    "print(a)\n",
    "print(np.exp(a)/sum(np.exp(a)))\n",
    "sm = torch.nn.Softmax(dim =0)\n",
    "print(sm(a))"
   ]
  },
  {
   "cell_type": "code",
   "execution_count": 32,
   "metadata": {},
   "outputs": [
    {
     "data": {
      "text/plain": [
       "tensor([0.5004, 0.6931, 0.5623])"
      ]
     },
     "execution_count": 32,
     "metadata": {},
     "output_type": "execute_result"
    }
   ],
   "source": [
    "#entropy\n",
    "p = torch.Tensor([0.2,0.5,0.75])\n",
    "q = 1-p\n",
    "\n",
    "entpy = -(p*torch.log(p) + q*torch.log(q))\n",
    "entpy"
   ]
  },
  {
   "cell_type": "code",
   "execution_count": 171,
   "metadata": {},
   "outputs": [
    {
     "data": {
      "text/plain": [
       "tensor(0.4833)"
      ]
     },
     "execution_count": 171,
     "metadata": {},
     "output_type": "execute_result"
    }
   ],
   "source": [
    "#binary entropy \n",
    "prob = torch.Tensor([0.75,0.25,0.9])\n",
    "bin_entropy = -torch.mean((prob*torch.log(prob))+((1-prob)*torch.log(1-prob)))\n",
    "bin_entropy"
   ]
  },
  {
   "cell_type": "code",
   "execution_count": 168,
   "metadata": {},
   "outputs": [
    {
     "data": {
      "text/plain": [
       "tensor(1.1892)"
      ]
     },
     "execution_count": 168,
     "metadata": {},
     "output_type": "execute_result"
    }
   ],
   "source": [
    "#binary cross entropy\n",
    "actual = torch.Tensor([1,0,1,1])\n",
    "predicted = torch.Tensor([0.25,0.75,0.25,0.55])\n",
    "actual_ = 1-actual\n",
    "predicted_ = 1-predicted\n",
    "bce = -torch.mean(actual*torch.log(predicted)+actual_*torch.log(predicted_))\n",
    "bce"
   ]
  },
  {
   "cell_type": "code",
   "execution_count": 169,
   "metadata": {},
   "outputs": [
    {
     "data": {
      "text/plain": [
       "tensor(1.1892)"
      ]
     },
     "execution_count": 169,
     "metadata": {},
     "output_type": "execute_result"
    }
   ],
   "source": [
    "torch.nn.functional.binary_cross_entropy(predicted,actual)"
   ]
  },
  {
   "cell_type": "code",
   "execution_count": 172,
   "metadata": {},
   "outputs": [
    {
     "data": {
      "text/plain": [
       "(tensor(1), tensor(5))"
      ]
     },
     "execution_count": 172,
     "metadata": {},
     "output_type": "execute_result"
    }
   ],
   "source": [
    "#min max / argmin argmax\n",
    "a = torch.tensor([2,3,1,4,5])\n",
    "\n",
    "#value\n",
    "torch.min(a), torch.max(a)"
   ]
  },
  {
   "cell_type": "code",
   "execution_count": 175,
   "metadata": {},
   "outputs": [
    {
     "data": {
      "text/plain": [
       "(tensor(4), tensor(2))"
      ]
     },
     "execution_count": 175,
     "metadata": {},
     "output_type": "execute_result"
    }
   ],
   "source": [
    "#position\n",
    "torch.argmax(a), torch.argmin(a) "
   ]
  },
  {
   "cell_type": "code",
   "execution_count": 184,
   "metadata": {},
   "outputs": [
    {
     "name": "stdout",
     "output_type": "stream",
     "text": [
      "[[5 9 3 2]\n",
      " [7 7 3 8]\n",
      " [1 6 3 6]]\n",
      "\n",
      "\n",
      "min 1 \n",
      "\n",
      "argmin_1 [3 2 0] \n",
      "\n",
      "argmin_0 [2 2 0 0]\n"
     ]
    }
   ],
   "source": [
    "#matrix \n",
    "\n",
    "a = np.random.randint(0,10,size=(3,4))\n",
    "\n",
    "print(a)\n",
    "print('\\n\\nmin',np.min(a),'\\n\\nargmin_1', np.argmin(a,axis=1),'\\n\\nargmin_0', np.argmin(a,axis=0))"
   ]
  },
  {
   "cell_type": "code",
   "execution_count": 191,
   "metadata": {},
   "outputs": [
    {
     "name": "stdout",
     "output_type": "stream",
     "text": [
      "\n",
      "\n",
      "min tensor([[5, 9, 3, 2],\n",
      "        [7, 7, 3, 8],\n",
      "        [1, 6, 3, 6]], dtype=torch.int32)\n",
      "\n",
      "\n",
      "argmin0 torch.return_types.min(\n",
      "values=tensor([1, 6, 3, 2], dtype=torch.int32),\n",
      "indices=tensor([2, 2, 0, 0]))\n",
      "\n",
      "\n",
      "argmin1 torch.return_types.min(\n",
      "values=tensor([2, 3, 1], dtype=torch.int32),\n",
      "indices=tensor([3, 2, 0]))\n"
     ]
    }
   ],
   "source": [
    "tensor_a = torch.tensor(a)\n",
    "print('\\n\\nmin',tensor_a)\n",
    "print('\\n\\nargmin0',torch.min(tensor_a,axis=0))\n",
    "print('\\n\\nargmin1',torch.min(tensor_a,axis=1))\n"
   ]
  },
  {
   "cell_type": "code",
   "execution_count": 200,
   "metadata": {},
   "outputs": [
    {
     "name": "stdout",
     "output_type": "stream",
     "text": [
      "[-0.47439702 -0.30191524 -0.93102638  1.11098606 -0.18968296]\n",
      "[ 1.27840959 -0.55407712  0.35430274 -0.44027617 -0.42444883]\n"
     ]
    }
   ],
   "source": [
    "#seeding \n",
    "print(np.random.randn(5))\n",
    "print(np.random.randn(5))\n",
    "\n",
    "# [ 0.40234471  0.31096427  0.22816184 -1.64422623 -0.75369468]\n",
    "# [-0.86243225  0.86652576 -1.06436757  1.75543543  0.40017803]\n"
   ]
  },
  {
   "cell_type": "code",
   "execution_count": 220,
   "metadata": {},
   "outputs": [
    {
     "name": "stdout",
     "output_type": "stream",
     "text": [
      "[ 0.02637477  0.2603217  -0.39514554 -0.20430091 -1.27163265]\n",
      "[-0.38406734 -0.55788836 -0.57974659  1.60780189  1.64720729]\n"
     ]
    }
   ],
   "source": [
    "#seeding \n",
    "n1 = np.random.RandomState(45)\n",
    "n2 = np.random.RandomState(458)\n",
    "print(n1.randn(5))\n",
    "print(n2.randn(5))\n",
    "\n",
    "# [ 0.02637477  0.2603217  -0.39514554 -0.20430091 -1.27163265]\n",
    "# [-2.59687863  0.28968091 -0.87330464  0.39407266  0.93510554]"
   ]
  },
  {
   "cell_type": "code",
   "execution_count": 224,
   "metadata": {},
   "outputs": [
    {
     "name": "stdout",
     "output_type": "stream",
     "text": [
      "[-0.49505193 -1.00860081  0.02524419 -0.12150685 -1.54687318]\n",
      "[ 0.3359656   0.43537901  0.3660313  -0.30310544  0.92735241]\n"
     ]
    }
   ],
   "source": [
    "print(n1.randn(5))\n",
    "print(n2.randn(5))"
   ]
  },
  {
   "cell_type": "code",
   "execution_count": 221,
   "metadata": {},
   "outputs": [
    {
     "name": "stdout",
     "output_type": "stream",
     "text": [
      "[ 0.02637477  0.2603217  -0.39514554 -0.20430091 -1.27163265]\n",
      "[-0.38406734 -0.55788836 -0.57974659  1.60780189  1.64720729]\n"
     ]
    }
   ],
   "source": [
    "n1 = np.random.RandomState(45)\n",
    "n2 = np.random.RandomState(458)\n",
    "print(n1.randn(5))\n",
    "print(n2.randn(5))"
   ]
  }
 ],
 "metadata": {
  "kernelspec": {
   "display_name": "base",
   "language": "python",
   "name": "python3"
  },
  "language_info": {
   "codemirror_mode": {
    "name": "ipython",
    "version": 3
   },
   "file_extension": ".py",
   "mimetype": "text/x-python",
   "name": "python",
   "nbconvert_exporter": "python",
   "pygments_lexer": "ipython3",
   "version": "3.12.3"
  }
 },
 "nbformat": 4,
 "nbformat_minor": 2
}
